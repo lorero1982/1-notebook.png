{
  "metadata": {
    "kernelspec": {
      "name": "python",
      "display_name": "Python (Pyodide)",
      "language": "python"
    },
    "language_info": {
      "codemirror_mode": {
        "name": "python",
        "version": 3
      },
      "file_extension": ".py",
      "mimetype": "text/x-python",
      "name": "python",
      "nbconvert_exporter": "python",
      "pygments_lexer": "ipython3",
      "version": "3.8"
    }
  },
  "nbformat_minor": 4,
  "nbformat": 4,
  "cells": [
    {
      "cell_type": "markdown",
      "source": "<body> <h1>Data Science Tools and Ecosyste</h1> <p>",
      "metadata": {}
    },
    {
      "cell_type": "markdown",
      "source": "\"In this notebook, Data Science Tools and Ecosystem are summarized.\"",
      "metadata": {}
    },
    {
      "cell_type": "markdown",
      "source": "# Some of the popular languages that Data Scientists use are:\n# Data Science Languages\n\nData science is a multidisciplinary field that uses scientific methods, processes, algorithms and systems to extract knowledge and insights from structured and unstructured data. Here are some of the most popular programming languages used in data science:\n\n- **Python**: A general-purpose programming language with a simple syntax, making it easy to learn and use. It has a large and active community, which means that there are many resources available for learning and troubleshooting. Python is widely used in data science due to its simplicity, versatility, and the availability of libraries such as NumPy, Pandas, and Matplotlib.\n\n- **R**: A programming language and free software environment for statistical computing and graphics. It is widely used among statisticians and data miners for developing statistical software and data analysis. R provides a wide variety of statistical (linear and nonlinear modeling, classical statistical tests, time-series analysis, classification, clustering) and graphical techniques, and is highly extensible.\n\n- **SQL**: Structured Query Language (SQL) is a standard language for managing and manipulating relational databases. It is used to communicate with and manipulate databases. SQL is an important skill for data scientists as it allows them to extract and manipulate data from databases.\n\n- **Scala**: A general-purpose programming language designed to handle data processing and analysis on a large scale. It is often used in big data and machine learning applications. Scala is a powerful language that is highly scalable and can handle large amounts of data.\n\n- **Julia**: A high-level, high-performance dynamic language for technical computing. It has been designed for numerical and scientific computing. Julia is a relatively new language, but it has gained popularity in the data science community due to its speed and ease of use.\n\n- **SAS**: A software suite used for advanced analytics, multivariate analyses, business intelligence, data management, and predictive analytics. It is widely used in industries such as finance, pharmaceuticals, and marketing.\n\n- **MATLAB**: A high-performance language for technical computing. It integrates computation, visualization, and programming in an easy-to-use environment where problems and solutions are expressed in familiar mathematical notation.\n\n- **C++**: A general-purpose programming language that is widely used in data science for high-performance computing. It is often used in applications such as machine learning and computer vision.",
      "metadata": {}
    },
    {
      "cell_type": "markdown",
      "source": "\"Some of the commonly used libraries used by Data Scientists include:\"\n<ul>\n  <li>NumPy</li>\n  <li>Pandas</li>\n  <li>Matplotlib</li>\n</ul>",
      "metadata": {}
    },
    {
      "cell_type": "markdown",
      "source": "<blockquote>\n  <p>In this notebook, we have learned about some of the key takeaways from the course.</p>\n</blockquote>\n<h1>Objectives:</h1>\n<ul>\n  <li>List popular languages for Data Science</li>\n  <li>Evaluate arithmetic expressions in Python</li>\n  <li>Convert minutes to hours in Python</li>\n</ul>",
      "metadata": {}
    },
    {
      "cell_type": "markdown",
      "source": "<table>\n  <thead>\n    <tr>\n      <th colspan=\"2\">Data Science Tools</th>\n    </tr>\n  </thead>\n  <tbody>\n    <tr>\n      <td>Jupyter Notebook</td>\n      <td>A web-based interactive computing environment for creating and sharing documents that contain live code, equations, visualizations and narrative text.</td>\n    </tr>\n    <tr>\n      <td>RStudio</td>\n      <td>A free and open-source integrated development environment (IDE) for R, a programming language for statistical computing and graphics.</td>\n    </tr>\n    <tr>\n      <td rowspan=\"2\">Visual Studio Code</td>\n      <td>A free, open-source, and lightweight source code editor that runs on your desktop and is available for Windows, macOS, and Linux.</td>\n    </tr>\n    <tr>\n      <td>It is developed by Microsoft and supports a wide range of programming languages, including Python, R, and Julia.</td>\n    </tr>\n  </tbody>\n</table>",
      "metadata": {}
    },
    {
      "cell_type": "markdown",
      "source": "<h1>Arithmetic Expression Examples</h1>\n<h3>Below are a few examples of evaluating arithmetic expressions in Python.</h3>",
      "metadata": {}
    },
    {
      "cell_type": "code",
      "source": "# This is a simple arithmetic expression to multiply and then add integers.\nresult = (3 * 4) + 5\nassert result == 17",
      "metadata": {
        "trusted": true
      },
      "outputs": [],
      "execution_count": 2
    },
    {
      "cell_type": "code",
      "source": "# This will convert 200 minutes to hours by dividing by 60.\n200 / 60",
      "metadata": {
        "trusted": true
      },
      "outputs": [
        {
          "execution_count": 1,
          "output_type": "execute_result",
          "data": {
            "text/plain": "3.3333333333333335"
          },
          "metadata": {}
        }
      ],
      "execution_count": 1
    },
    {
      "cell_type": "markdown",
      "source": "<h2>Author:</h2>\n<p>John Doe</p>",
      "metadata": {}
    },
    {
      "cell_type": "code",
      "source": "",
      "metadata": {
        "trusted": true
      },
      "outputs": [],
      "execution_count": null
    }
  ]
}